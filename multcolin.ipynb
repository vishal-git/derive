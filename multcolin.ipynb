{
 "cells": [
  {
   "cell_type": "code",
   "execution_count": 2,
   "metadata": {},
   "outputs": [],
   "source": [
    "import pandas as pd\n",
    "import numpy as np\n",
    "import matplotlib.pyplot as plt\n",
    "import seaborn as sns"
   ]
  },
  {
   "cell_type": "markdown",
   "metadata": {},
   "source": [
    "# Define functions"
   ]
  },
  {
   "cell_type": "markdown",
   "metadata": {},
   "source": [
    "The `plot_corr_matrix` function is used to plot correlation heatmaps.\n",
    "This function will be used twice: (1) to plot the initial correlation matrix for all (valid) input features,\n",
    "    and (2) to plot the final correlation matrix for all features that survived the feature reduction steps."
   ]
  },
  {
   "cell_type": "code",
   "execution_count": 3,
   "metadata": {},
   "outputs": [],
   "source": [
    "def plot_corr_matrix(in_corr_matrix):\n",
    "    \"\"\"\n",
    "    Plots the correlation matrix as a heatmap using seaborn\n",
    "    \n",
    "    \"\"\"\n",
    "    sns.set(style = 'white')\n",
    "    f, ax = plt.subplots(figsize = (12, 9))\n",
    "    \n",
    "    # Generate a mask for the upper triangle\n",
    "    corr_mask = np.zeros_like(in_corr_matrix, dtype = np.bool)\n",
    "    corr_mask[np.triu_indices_from(corr_mask)] = True\n",
    "    \n",
    "    ax.set_title('CORRELATION MATRIX (%s FEATURES)' %len(in_corr_matrix),\n",
    "                 fontsize = 14, fontweight = 'bold')\n",
    "    \n",
    "    sns.heatmap(in_corr_matrix, mask = corr_mask,\n",
    "                cmap = sns.diverging_palette(220, 10, as_cmap=True),\n",
    "                square = True, ax = ax, \n",
    "                vmin = -1, vmax = 1)"
   ]
  },
  {
   "cell_type": "markdown",
   "metadata": {},
   "source": [
    "The `plot_feature_reduction_results` function is used to plot a line graph that shows \n",
    "the absolute correlation of each input feature with the target feature. The features that did not survive the feature reduction\n",
    "steps are distinguished by using a different color."
   ]
  },
  {
   "cell_type": "code",
   "execution_count": 4,
   "metadata": {},
   "outputs": [],
   "source": [
    "def plot_feature_reduction_results(indf):\n",
    "    \"\"\"\n",
    "    Plots the feature reduction results to visualize the discarded features\n",
    "    \n",
    "    \"\"\"\n",
    "    \n",
    "    sns.set(style = 'whitegrid')\n",
    "    f, ax = plt.subplots(figsize = (12, 9))\n",
    "    \n",
    "    # TODO: Show x labels if they are visible (i.e., not too many)\n",
    "    ax = sns.barplot(x = 'index', y = 'corr_with_y', hue = 'Survived', \n",
    "                     palette = sns.color_palette('Paired'), data = indf)\n",
    "    \n",
    "    ax.set_xticks([])\n",
    "    ax.set_xticklabels([])\n",
    "    ax.set_title('FEATURE REDUCTION RESULTS', fontsize = 14, \n",
    "                 fontweight = 'bold')\n",
    "    \n",
    "    plt.xlabel('Features', fontsize = 14)\n",
    "    plt.ylabel('Correlation with Target', fontsize = 14)\n",
    "    #plt.legend(fontsize = 14)\n",
    "    plt.show()"
   ]
  },
  {
   "cell_type": "markdown",
   "metadata": {},
   "source": [
    "The `multcolin` function perform feature reduction on the set of (valid) input features."
   ]
  },
  {
   "cell_type": "markdown",
   "metadata": {},
   "source": [
    "After performing some initial checks (e.g., empty dataframe) it discards any features that are not numeric.\n",
    "The list of features that survive the feature reduction steps are returned by this function."
   ]
  },
  {
   "cell_type": "code",
   "execution_count": 5,
   "metadata": {},
   "outputs": [],
   "source": [
    "def multcolin(indf, y_vals, min_vars_to_keep, corr_tol, condition_ind_tol,\n",
    "              verbose, export_csv):\n",
    "    \"\"\"\n",
    "    Performs feature reduction on *numeric* features using:\n",
    "        1. Pairwise correlation analysis, followed by\n",
    "        2. Multi-collinearity analysis\n",
    "        \n",
    "    min_vars_to_keep:   Stop further feature reduction if this threshold is met\n",
    "    corr_tol:           If the absolute correlation between two variables is \n",
    "                        higher, one of them will be dropped (the one that has \n",
    "                        high corr with target)\n",
    "    condition_ind_tol:  Used to detect high levels of multicollinearity\n",
    "    \n",
    "    To disable the pairwise correlation step, set corr_tol to 1.0 \n",
    "\n",
    "    \"\"\"\n",
    "    \n",
    "    # If empty dataframe, raise an error\n",
    "    if indf.shape[0] == 0:\n",
    "        raise RuntimeError('The input dataframe is empty!')\n",
    "        \n",
    "    # Number of input features (original)\n",
    "    in_col_ct = len(indf.columns)\n",
    "\n",
    "    # Discard categorical vars, if any\n",
    "    indf = indf.loc[:, indf.dtypes != object]\n",
    "    num_col_ct = len(indf.columns)\n",
    "    \n",
    "    # If one or less (valid) column, print message and return\n",
    "    if num_col_ct <= 1:\n",
    "        print ('The input dataframe contains one or less column! \\\n",
    "               Exiting function without executing.')\n",
    "        return \n",
    "\n",
    "    # If number of columns <= min_vars_to_keep, raise an error\n",
    "    if num_col_ct <= min_vars_to_keep:\n",
    "        raise RuntimeError('The number of valid features = min_vars_to_keep. \\\n",
    "                            Choose a higher value for min_vars_to_keep.') \n",
    "    \n",
    "    \n",
    "    # If y_vals are not numeric, raise warning and return\n",
    "    if type(y[0]) == 'object':\n",
    "        raise ValueError('The target/output vector is non-numeric.') \n",
    "        \n",
    "    ## Everything looks good -- let's proceed! (aka the \"happy path\")\n",
    "    \n",
    "    # Print the number of discarded non-numeric features (if any) \n",
    "    if in_col_ct != num_col_ct and verbose == True:\n",
    "        print (\"%s non-numeric feature(s) discarded\" %(in_col_ct - num_col_ct))\n",
    "    \n",
    "    # Correlation matrix for all independent vars\n",
    "    corr_matrix = indf.corr()\n",
    "    num_features = len(corr_matrix)\n",
    "    \n",
    "    # Export the initial correlation matrix for all input features\n",
    "    if export_csv == True:\n",
    "        corr_matrix.to_csv('initial_corr_matrix.csv')\n",
    "        \n",
    "    if verbose == 1:\n",
    "        print (f'# of input vars = {num_features}', '\\n')\n",
    "    \n",
    "    # Plot the initial correlation matrix\n",
    "    plot_corr_matrix(corr_matrix)\n",
    "    \n",
    "    # Correlations with the target/output vector\n",
    "    corr_with_y = {}\n",
    "    for var in indf.columns:\n",
    "        corr_with_y[var] = y_vals.corr(indf[var])\n",
    "    \n",
    "    # Save those in a dataframe\n",
    "    orig_vars_df = pd.DataFrame.from_dict([corr_with_y]).T\n",
    "    orig_vars_df.columns = ['corr_with_y']\n",
    "        \n",
    "    # For each column in the corr matrix\n",
    "    print ('Running Pairwise Correlation Analysis')\n",
    "    for col in corr_matrix:\n",
    "        if col in corr_matrix.keys():\n",
    "            this_col, these_vars = [], []\n",
    "            \n",
    "            for i in range(len(corr_matrix)):\n",
    "                \n",
    "                this_var = corr_matrix.keys()[i]\n",
    "                this_corr = corr_matrix[col][i]\n",
    "                \n",
    "                if abs(this_corr) == 1.0 and col != this_var:\n",
    "                    highly_corr = 0\n",
    "                else:\n",
    "                    highly_corr = (1 if abs(this_corr) > corr_tol \n",
    "                                   else -1) * abs(corr_with_y[this_var])\n",
    "                \n",
    "                this_col.append(highly_corr)\n",
    "                these_vars.append(corr_matrix.keys()[i])\n",
    "            \n",
    "            # Initialize the mask\n",
    "            mask = np.ones(len(this_col), dtype = bool) \n",
    "            \n",
    "            # To keep track of the number of columns deleted\n",
    "            del_col_ct = 0\n",
    "            \n",
    "            for n, j in enumerate(this_col):\n",
    "                # Delete if (a) a var is correlated with others and do not have\n",
    "                # the best corr with dep, or (b) completely corr with the 'col'\n",
    "                mask[n] = not (j != max(this_col) and j >= 0)\n",
    "                \n",
    "                if j != max(this_col) and j >= 0:\n",
    "                    \n",
    "                    if verbose == 1:\n",
    "                        print ('    Dropping %s {Corr with %s=%.5f}' \n",
    "                               %(these_vars[n], this_var, corr_matrix[col][n]))\n",
    "                        \n",
    "                    # Delete the column from corr matrix\n",
    "                    corr_matrix.pop('%s' %these_vars[n])\n",
    "                    corr_with_y.pop('%s' %these_vars[n])\n",
    "                    del_col_ct += 1\n",
    "                    \n",
    "            # Delete the corresponding row(s) from the corr matrix\n",
    "            corr_matrix = corr_matrix[mask]\n",
    "    \n",
    "    if verbose == 1 and corr_tol != 1:\n",
    "        print ('\\n# of vars after eliminating high pairwise correlations =', \n",
    "               len(corr_matrix), '\\n')\n",
    "    \n",
    "    # Multicollinearity\n",
    "    if num_features > min_vars_to_keep:\n",
    "        print ('Running Multi-collinearity Analysis')\n",
    "    \n",
    "        while True:\n",
    "            num_features -= 1\n",
    "            \n",
    "            # Update the list of columns\n",
    "            cols = corr_matrix.keys() \n",
    "            \n",
    "            # Eigen values and vectors\n",
    "            eigen_vals, eigen_vectors = np.linalg.eig(corr_matrix) \n",
    "            \n",
    "            # Calculate the max of all conditinon indices\n",
    "            c_ind = max((max(eigen_vals) / eigen_vals) ** 0.5)\n",
    "            \n",
    "            # If the condition index <= 30 then multicolin is not an issue\n",
    "            if c_ind <= condition_ind_tol or num_features == min_vars_to_keep:\n",
    "                break\n",
    "            \n",
    "            for i, val in enumerate(eigen_vals):\n",
    "                if val == min(eigen_vals):   # Min value, close to zero\n",
    "                    # Look into that vector\n",
    "                    this_eigen_vector = eigen_vectors[:, i]\n",
    "                    max_w = max(abs(this_eigen_vector))\n",
    "                    \n",
    "                    for j, vec in enumerate(this_eigen_vector):\n",
    "                        # Var that has the max weight on that vector\n",
    "                        if abs(vec) == max_w:\n",
    "                            # Initialize\n",
    "                            mask = np.ones(len(corr_matrix), dtype = bool)\n",
    "                            for n, col in enumerate(corr_matrix.keys()):\n",
    "                                mask[n] = n != j\n",
    "                                \n",
    "                            #TODO: Also print the set of features\n",
    "                            # with which this var is correlated\n",
    "                            if verbose == 1:\n",
    "                                print ('    Dropping %s {Weight=%.2f}' \n",
    "                                       %(corr_matrix.keys()[j], max_w))\n",
    "                                \n",
    "                            # Delete row\n",
    "                            corr_matrix = corr_matrix[mask]  \n",
    "                            # Delete column\n",
    "                            corr_matrix.pop(cols[j])\n",
    "                                                     \n",
    "        \n",
    "        if verbose == 1:\n",
    "            print ('\\n # of vars after multicolinearity analyis =', \n",
    "                   len(corr_matrix), '\\n')\n",
    "    \n",
    "    # Export the final correlation matrix for the survivors\n",
    "    if export_csv == True:\n",
    "        corr_matrix.to_csv('final_corr_matrix.csv')\n",
    "        \n",
    "    # Survivors\n",
    "    surv_vars = {k:v for (k,v) in corr_with_y.items() \n",
    "                if k in corr_matrix.keys()}\n",
    "    \n",
    "    # Create a dataframe (to be exported)\n",
    "    surv_vars_df = pd.DataFrame.from_dict([surv_vars]).T\n",
    "    surv_vars_df.columns = ['Survived']\n",
    "    \n",
    "    orig_vars_df = orig_vars_df.merge(surv_vars_df, left_index = True, \n",
    "                                      right_index = True, how = 'left')\n",
    "    \n",
    "    orig_vars_df.loc[pd.isnull(orig_vars_df['Survived']) == False, \n",
    "                     'Survived'] = 'Y'\n",
    "                     \n",
    "    orig_vars_df['Survived'].fillna('N', inplace = True)\n",
    "    \n",
    "    orig_vars_df = orig_vars_df.reset_index().sort_values(by = 'corr_with_y', \n",
    "                                           ascending = False)\n",
    "\n",
    "    if export_csv == True:\n",
    "        orig_vars_df.to_csv('multcolin_results.csv')\n",
    "    \n",
    "    # Plot the final correlation matrix\n",
    "    plot_corr_matrix(corr_matrix)\n",
    "     \n",
    "    # Plot the feature reduction results\n",
    "    plot_feature_reduction_results(orig_vars_df)\n",
    "    \n",
    "    return surv_vars"
   ]
  },
  {
   "cell_type": "markdown",
   "metadata": {},
   "source": [
    "# Demonstration using the Boston Housing data\n",
    "#### Details about the Boston Housing data can be found here: http://scikit-learn.org/stable/modules/generated/sklearn.datasets.load_boston.html"
   ]
  },
  {
   "cell_type": "code",
   "execution_count": 6,
   "metadata": {},
   "outputs": [
    {
     "name": "stdout",
     "output_type": "stream",
     "text": [
      "(506, 13)\n"
     ]
    }
   ],
   "source": [
    "from sklearn.datasets import load_boston\n",
    "\n",
    "boston = load_boston()\n",
    "print(boston.data.shape)"
   ]
  },
  {
   "cell_type": "markdown",
   "metadata": {},
   "source": [
    "The `multcolin` function expects the dataset (X values) to be a dataframe with column names\n",
    "So let's convert this numpy array into a Pandas dataframe"
   ]
  },
  {
   "cell_type": "code",
   "execution_count": 10,
   "metadata": {},
   "outputs": [],
   "source": [
    "X = pd.DataFrame(boston['data'])"
   ]
  },
  {
   "cell_type": "markdown",
   "metadata": {},
   "source": [
    "And the y values must be a Series\n",
    "So let's convert the target values into a Pandas Series"
   ]
  },
  {
   "cell_type": "code",
   "execution_count": 11,
   "metadata": {},
   "outputs": [],
   "source": [
    "y = pd.Series(boston['target'])"
   ]
  },
  {
   "cell_type": "code",
   "execution_count": 12,
   "metadata": {},
   "outputs": [
    {
     "data": {
      "text/html": [
       "<div>\n",
       "<style scoped>\n",
       "    .dataframe tbody tr th:only-of-type {\n",
       "        vertical-align: middle;\n",
       "    }\n",
       "\n",
       "    .dataframe tbody tr th {\n",
       "        vertical-align: top;\n",
       "    }\n",
       "\n",
       "    .dataframe thead th {\n",
       "        text-align: right;\n",
       "    }\n",
       "</style>\n",
       "<table border=\"1\" class=\"dataframe\">\n",
       "  <thead>\n",
       "    <tr style=\"text-align: right;\">\n",
       "      <th></th>\n",
       "      <th>0</th>\n",
       "      <th>1</th>\n",
       "      <th>2</th>\n",
       "      <th>3</th>\n",
       "      <th>4</th>\n",
       "      <th>5</th>\n",
       "      <th>6</th>\n",
       "      <th>7</th>\n",
       "      <th>8</th>\n",
       "      <th>9</th>\n",
       "      <th>10</th>\n",
       "      <th>11</th>\n",
       "      <th>12</th>\n",
       "    </tr>\n",
       "  </thead>\n",
       "  <tbody>\n",
       "    <tr>\n",
       "      <th>0</th>\n",
       "      <td>0.00632</td>\n",
       "      <td>18.0</td>\n",
       "      <td>2.31</td>\n",
       "      <td>0.0</td>\n",
       "      <td>0.538</td>\n",
       "      <td>6.575</td>\n",
       "      <td>65.2</td>\n",
       "      <td>4.0900</td>\n",
       "      <td>1.0</td>\n",
       "      <td>296.0</td>\n",
       "      <td>15.3</td>\n",
       "      <td>396.90</td>\n",
       "      <td>4.98</td>\n",
       "    </tr>\n",
       "    <tr>\n",
       "      <th>1</th>\n",
       "      <td>0.02731</td>\n",
       "      <td>0.0</td>\n",
       "      <td>7.07</td>\n",
       "      <td>0.0</td>\n",
       "      <td>0.469</td>\n",
       "      <td>6.421</td>\n",
       "      <td>78.9</td>\n",
       "      <td>4.9671</td>\n",
       "      <td>2.0</td>\n",
       "      <td>242.0</td>\n",
       "      <td>17.8</td>\n",
       "      <td>396.90</td>\n",
       "      <td>9.14</td>\n",
       "    </tr>\n",
       "    <tr>\n",
       "      <th>2</th>\n",
       "      <td>0.02729</td>\n",
       "      <td>0.0</td>\n",
       "      <td>7.07</td>\n",
       "      <td>0.0</td>\n",
       "      <td>0.469</td>\n",
       "      <td>7.185</td>\n",
       "      <td>61.1</td>\n",
       "      <td>4.9671</td>\n",
       "      <td>2.0</td>\n",
       "      <td>242.0</td>\n",
       "      <td>17.8</td>\n",
       "      <td>392.83</td>\n",
       "      <td>4.03</td>\n",
       "    </tr>\n",
       "    <tr>\n",
       "      <th>3</th>\n",
       "      <td>0.03237</td>\n",
       "      <td>0.0</td>\n",
       "      <td>2.18</td>\n",
       "      <td>0.0</td>\n",
       "      <td>0.458</td>\n",
       "      <td>6.998</td>\n",
       "      <td>45.8</td>\n",
       "      <td>6.0622</td>\n",
       "      <td>3.0</td>\n",
       "      <td>222.0</td>\n",
       "      <td>18.7</td>\n",
       "      <td>394.63</td>\n",
       "      <td>2.94</td>\n",
       "    </tr>\n",
       "    <tr>\n",
       "      <th>4</th>\n",
       "      <td>0.06905</td>\n",
       "      <td>0.0</td>\n",
       "      <td>2.18</td>\n",
       "      <td>0.0</td>\n",
       "      <td>0.458</td>\n",
       "      <td>7.147</td>\n",
       "      <td>54.2</td>\n",
       "      <td>6.0622</td>\n",
       "      <td>3.0</td>\n",
       "      <td>222.0</td>\n",
       "      <td>18.7</td>\n",
       "      <td>396.90</td>\n",
       "      <td>5.33</td>\n",
       "    </tr>\n",
       "  </tbody>\n",
       "</table>\n",
       "</div>"
      ],
      "text/plain": [
       "        0     1     2    3      4      5     6       7    8      9     10  \\\n",
       "0  0.00632  18.0  2.31  0.0  0.538  6.575  65.2  4.0900  1.0  296.0  15.3   \n",
       "1  0.02731   0.0  7.07  0.0  0.469  6.421  78.9  4.9671  2.0  242.0  17.8   \n",
       "2  0.02729   0.0  7.07  0.0  0.469  7.185  61.1  4.9671  2.0  242.0  17.8   \n",
       "3  0.03237   0.0  2.18  0.0  0.458  6.998  45.8  6.0622  3.0  222.0  18.7   \n",
       "4  0.06905   0.0  2.18  0.0  0.458  7.147  54.2  6.0622  3.0  222.0  18.7   \n",
       "\n",
       "       11    12  \n",
       "0  396.90  4.98  \n",
       "1  396.90  9.14  \n",
       "2  392.83  4.03  \n",
       "3  394.63  2.94  \n",
       "4  396.90  5.33  "
      ]
     },
     "execution_count": 12,
     "metadata": {},
     "output_type": "execute_result"
    }
   ],
   "source": [
    "# let's take a quick look at the data\n",
    "X.head()"
   ]
  },
  {
   "cell_type": "markdown",
   "metadata": {},
   "source": [
    "The `multcolin` function also expects column names. Let's assign column names to this dataframe."
   ]
  },
  {
   "cell_type": "code",
   "execution_count": 13,
   "metadata": {},
   "outputs": [],
   "source": [
    "X.columns = ['CRIM', 'ZN', 'INDUS', 'NOX', 'RM', 'AGE', 'DIS',\n",
    "             'RAD', 'TAX', 'PTRATIO', 'B1000', 'LSTAT', 'MEDV']"
   ]
  },
  {
   "cell_type": "markdown",
   "metadata": {},
   "source": [
    "Now this dataset doesn't suffer from multi-collinearity (you can check this separately by using a piece of code from the `'multcolin` function that calculates the condition indices for each feature). So let's (try to) introduce some multicollinearity!"
   ]
  },
  {
   "cell_type": "code",
   "execution_count": 14,
   "metadata": {},
   "outputs": [],
   "source": [
    "# Create a new feature that is correlated with three other features\n",
    "\n",
    "X['EXTRA'] = .01*X['RAD'] + .02*X['ZN'] - .003*X['CRIM']    \\\n",
    "        + np.random.uniform()"
   ]
  },
  {
   "cell_type": "markdown",
   "metadata": {},
   "source": [
    "Let's perform feature reduction on this dataset by calling the `multcolin` function.\n",
    "Please note that I've used condition_ind_tol = 5 just for this demo.\n",
    "This value is TOO LOW! In practice, you should use a value between 15 and 30. (30 is the most commonly used value.)"
   ]
  },
  {
   "cell_type": "code",
   "execution_count": 15,
   "metadata": {},
   "outputs": [
    {
     "name": "stdout",
     "output_type": "stream",
     "text": [
      "# of input vars = 14 \n",
      "\n",
      "Running Pairwise Correlation Analysis\n",
      "    Dropping ZN {Corr with EXTRA=1.00000}\n",
      "\n",
      "# of vars after eliminating high pairwise correlations = 13 \n",
      "\n",
      "Running Multi-collinearity Analysis\n",
      "    Dropping PTRATIO {Weight=0.72}\n",
      "    Dropping RM {Weight=0.77}\n",
      "    Dropping RAD {Weight=0.77}\n",
      "\n",
      " # of vars after multicolinearity analyis = 10 \n",
      "\n"
     ]
    },
    {
     "data": {
      "image/png": "[encoded data removed]",
      "text/plain": [
       "<matplotlib.figure.Figure at 0x7f0f10e09ef0>"
      ]
     },
     "metadata": {},
     "output_type": "display_data"
    },
    {
     "data": {
      "image/png": "[encoded data removed]",
      "text/plain": [
       "<matplotlib.figure.Figure at 0x7f0f03f4f278>"
      ]
     },
     "metadata": {},
     "output_type": "display_data"
    },
    {
     "data": {
      "image/png": "[encoded data removed]",
      "text/plain": [
       "<matplotlib.figure.Figure at 0x7f0f03f4fe10>"
      ]
     },
     "metadata": {},
     "output_type": "display_data"
    }
   ],
   "source": [
    "vars_to_keep = multcolin(X, y, min_vars_to_keep = 5, corr_tol = .95, \n",
    "                             condition_ind_tol = 5, verbose = 1, \n",
    "                             export_csv = 1)"
   ]
  },
  {
   "cell_type": "markdown",
   "metadata": {},
   "source": [
    "Out of 14 input features, `ZN` was dropped because it has a high correlation with `EXTRA`.\n",
    "Then three more features, `PTRATIO`, `RM`, and `RAD` were dropped because these variables caused multicollinearity in the data (they were correlated with two or more other variables)."
   ]
  },
  {
   "cell_type": "markdown",
   "metadata": {},
   "source": [
    "The correlation matrix heatmaps demonstrates the reduction in pairwise correlations. While the Feature Reduction Results plot shows which features (with respect to where they are in terms of their correlation with the target) are discarded. This can be useful if you want to ensure that not too many of the important features (on either ends of the spectrum) are discarded. "
   ]
  }
 ],
 "metadata": {
  "kernelspec": {
   "display_name": "Python 3",
   "language": "python",
   "name": "python3"
  },
  "language_info": {
   "codemirror_mode": {
    "name": "ipython",
    "version": 3
   },
   "file_extension": ".py",
   "mimetype": "text/x-python",
   "name": "python",
   "nbconvert_exporter": "python",
   "pygments_lexer": "ipython3",
   "version": "3.6.4"
  }
 },
 "nbformat": 4,
 "nbformat_minor": 2
}
